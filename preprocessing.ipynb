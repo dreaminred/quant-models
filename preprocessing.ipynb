{
 "cells": [
  {
   "cell_type": "code",
   "execution_count": 70,
   "id": "b35c461f",
   "metadata": {},
   "outputs": [],
   "source": [
    "import pandas as pd\n",
    "import numpy as np\n",
    "from glob import glob"
   ]
  },
  {
   "cell_type": "code",
   "execution_count": 71,
   "id": "9bb8724a",
   "metadata": {},
   "outputs": [],
   "source": [
    "#Start off by reading the dir path and file names for each ticker csv\n",
    "ticker_dir_list = glob(\"data/daily_20230216/*.csv\")"
   ]
  },
  {
   "cell_type": "code",
   "execution_count": 86,
   "id": "6b7345f7",
   "metadata": {},
   "outputs": [],
   "source": [
    "ticker_dir = ticker_dir_list[0]\n",
    "firstIndex = ticker_dir.rfind('\\\\') + 1\n",
    "lastIndex = ticker_dir.rfind('.')\n",
    "ticker = ticker_dir[firstIndex:lastIndex]"
   ]
  },
  {
   "cell_type": "code",
   "execution_count": 87,
   "id": "3b99ac07",
   "metadata": {},
   "outputs": [],
   "source": [
    "ticker_df = pd.read_csv(ticker_dir, parse_dates=['timestamp'])\n",
    "ticker_df = ticker_df.rename(columns={'index':'timestamp', \n",
    "                          '1. open':'open',\n",
    "                          '2. high':'high',\n",
    "                          '3. low':'low',\n",
    "                          '4. close':'close',\n",
    "                          '5. adjusted close':'adjusted close',\n",
    "                          '6. volume':'volume'}).drop(columns=['7. dividend amount', '8. split coefficient'])\n",
    "                                                                                 \n",
    "# Sort by date\n",
    "ticker_df.sort_values(by=['timestamp'], inplace=True)  \n",
    "# Reassign indices\n",
    "ticker_df = ticker_df.reset_index().drop(columns=['index'])"
   ]
  },
  {
   "cell_type": "code",
   "execution_count": 88,
   "id": "d3c6ada1",
   "metadata": {},
   "outputs": [],
   "source": [
    "# Find change in price for a day and a month\n",
    "n = 1\n",
    "ticker_df['price_delta_daily'] = ticker_df['adjusted close'].diff(n)\n",
    "ticker_df['price_delta_monthly'] = ticker_df['adjusted close'].diff(n*30)"
   ]
  },
  {
   "cell_type": "code",
   "execution_count": 89,
   "id": "b7885eb0",
   "metadata": {},
   "outputs": [],
   "source": [
    "ticker_df['buy_signal_daily'] = ticker_df['price_delta_daily'].transform(np.sign)\n",
    "ticker_df['buy_signal_monthly'] = ticker_df['price_delta_monthly'].transform(np.sign)"
   ]
  },
  {
   "cell_type": "markdown",
   "id": "180f1e02",
   "metadata": {},
   "source": [
    "# Indicators"
   ]
  },
  {
   "cell_type": "markdown",
   "id": "f8230511",
   "metadata": {},
   "source": [
    "## Relative Strength Index (RSI)\n",
    "\n",
    "$$RSI=100 - \\frac{100}{1 + RS}$$"
   ]
  },
  {
   "cell_type": "code",
   "execution_count": 92,
   "id": "8eae186e",
   "metadata": {},
   "outputs": [],
   "source": [
    "# Averaging Window for RSI     \n",
    "n_rsi = 14\n",
    "\n",
    "# Separate up and down days\n",
    "up_df, down_df = ticker_df['price_delta_daily'].copy(), ticker_df['price_delta_daily'].copy()\n",
    "\n",
    "up_df.loc['price_delta_daily'] = up_df.loc[(up_df['price_delta_daily'] < 0), 'price_delta_daily'] = 0\n"
   ]
  },
  {
   "cell_type": "code",
   "execution_count": 93,
   "id": "38585c8f",
   "metadata": {},
   "outputs": [
    {
     "data": {
      "text/plain": [
       "0                    0.000000\n",
       "1                   -0.048911\n",
       "2                    0.205427\n",
       "3                   -0.007826\n",
       "4                   -0.001956\n",
       "                       ...   \n",
       "3783                 0.030000\n",
       "3784                 0.010500\n",
       "3785                 0.069500\n",
       "3786                 0.149500\n",
       "price_delta_daily    0.000000\n",
       "Name: price_delta_daily, Length: 3788, dtype: float64"
      ]
     },
     "execution_count": 93,
     "metadata": {},
     "output_type": "execute_result"
    }
   ],
   "source": [
    "up_df"
   ]
  },
  {
   "cell_type": "code",
   "execution_count": null,
   "id": "d7d93bae",
   "metadata": {},
   "outputs": [],
   "source": []
  }
 ],
 "metadata": {
  "kernelspec": {
   "display_name": "Python 3 (ipykernel)",
   "language": "python",
   "name": "python3"
  },
  "language_info": {
   "codemirror_mode": {
    "name": "ipython",
    "version": 3
   },
   "file_extension": ".py",
   "mimetype": "text/x-python",
   "name": "python",
   "nbconvert_exporter": "python",
   "pygments_lexer": "ipython3",
   "version": "3.9.12"
  },
  "toc": {
   "base_numbering": 1,
   "nav_menu": {},
   "number_sections": true,
   "sideBar": true,
   "skip_h1_title": false,
   "title_cell": "Table of Contents",
   "title_sidebar": "Contents",
   "toc_cell": false,
   "toc_position": {},
   "toc_section_display": true,
   "toc_window_display": false
  },
  "varInspector": {
   "cols": {
    "lenName": 16,
    "lenType": 16,
    "lenVar": 40
   },
   "kernels_config": {
    "python": {
     "delete_cmd_postfix": "",
     "delete_cmd_prefix": "del ",
     "library": "var_list.py",
     "varRefreshCmd": "print(var_dic_list())"
    },
    "r": {
     "delete_cmd_postfix": ") ",
     "delete_cmd_prefix": "rm(",
     "library": "var_list.r",
     "varRefreshCmd": "cat(var_dic_list()) "
    }
   },
   "types_to_exclude": [
    "module",
    "function",
    "builtin_function_or_method",
    "instance",
    "_Feature"
   ],
   "window_display": false
  }
 },
 "nbformat": 4,
 "nbformat_minor": 5
}
