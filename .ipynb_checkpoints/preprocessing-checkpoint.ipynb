{
 "cells": [
  {
   "cell_type": "code",
   "execution_count": 132,
   "id": "b35c461f",
   "metadata": {},
   "outputs": [],
   "source": [
    "import pandas as pd\n",
    "import numpy as np\n",
    "from matplotlib import pyplot as plt\n",
    "from glob import glob"
   ]
  },
  {
   "cell_type": "code",
   "execution_count": 133,
   "id": "9bb8724a",
   "metadata": {},
   "outputs": [],
   "source": [
    "#Start off by reading the dir path and file names for each ticker csv\n",
    "ticker_dir_list = glob(\"data/daily_20230216/*.csv\")"
   ]
  },
  {
   "cell_type": "code",
   "execution_count": 134,
   "id": "6b7345f7",
   "metadata": {},
   "outputs": [],
   "source": [
    "ticker_dir = ticker_dir_list[0]\n",
    "firstIndex = ticker_dir.rfind('\\\\') + 1\n",
    "lastIndex = ticker_dir.rfind('.')\n",
    "ticker = ticker_dir[firstIndex:lastIndex]"
   ]
  },
  {
   "cell_type": "code",
   "execution_count": 135,
   "id": "3b99ac07",
   "metadata": {},
   "outputs": [],
   "source": [
    "ticker_df = pd.read_csv(ticker_dir, parse_dates=['timestamp'])\n",
    "ticker_df = ticker_df.rename(columns={'index':'timestamp', \n",
    "                          '1. open':'open',\n",
    "                          '2. high':'high',\n",
    "                          '3. low':'low',\n",
    "                          '4. close':'close',\n",
    "                          '5. adjusted close':'adjusted close',\n",
    "                          '6. volume':'volume'}).drop(columns=['7. dividend amount', '8. split coefficient'])\n",
    "                                                                                 \n",
    "# Sort by date\n",
    "ticker_df.sort_values(by=['timestamp'], inplace=True)  \n",
    "# Reassign indices\n",
    "ticker_df = ticker_df.reset_index().drop(columns=['index'])"
   ]
  },
  {
   "cell_type": "code",
   "execution_count": 136,
   "id": "d3c6ada1",
   "metadata": {},
   "outputs": [],
   "source": [
    "# Find change in price for a day and a month\n",
    "n = 1\n",
    "ticker_df['price_delta_daily'] = ticker_df['adjusted close'].diff(n)\n",
    "ticker_df['price_delta_monthly'] = ticker_df['adjusted close'].diff(n*30)"
   ]
  },
  {
   "cell_type": "code",
   "execution_count": 137,
   "id": "b7885eb0",
   "metadata": {},
   "outputs": [],
   "source": [
    "ticker_df['buy_signal_daily'] = ticker_df['price_delta_daily'].transform(np.sign).shift(-1)\n",
    "ticker_df['buy_signal_monthly'] = ticker_df['price_delta_monthly'].transform(np.sign).shift(-1)"
   ]
  },
  {
   "cell_type": "markdown",
   "id": "180f1e02",
   "metadata": {},
   "source": [
    "# Indicators"
   ]
  },
  {
   "cell_type": "markdown",
   "id": "1883cdc0",
   "metadata": {},
   "source": [
    "## Bollinger Bands $\\overline{C_{20}} \\pm 2 \\cdot {SD}_{20}$"
   ]
  },
  {
   "cell_type": "code",
   "execution_count": 138,
   "id": "851b6712",
   "metadata": {},
   "outputs": [],
   "source": [
    "n_bollinger = 20\n",
    "n_of_std = 2\n",
    "\n",
    "ticker_df['mean_20'] = ticker_df['adjusted close'].rolling(n_bollinger).mean()\n",
    "ticker_df['stdev_20'] = ticker_df['adjusted close'].rolling(n_bollinger).std()\n",
    "ticker_df['upper_bollinger'] = ticker_df['mean_20'] + (n_of_std * ticker_df['stdev_20'])\n",
    "ticker_df['lower_bollinger'] = ticker_df['mean_20'] - (n_of_std * ticker_df['stdev_20'])"
   ]
  },
  {
   "cell_type": "markdown",
   "id": "ea8bfee5",
   "metadata": {},
   "source": [
    "## Force Index $(C_t - C_{t-1})\\cdot V_t$"
   ]
  },
  {
   "cell_type": "code",
   "execution_count": 139,
   "id": "6eaa755f",
   "metadata": {},
   "outputs": [],
   "source": [
    "ticker_df['force_index'] = ticker_df['price_delta_daily'] * ticker_df['volume']"
   ]
  },
  {
   "cell_type": "markdown",
   "id": "d026b574",
   "metadata": {},
   "source": [
    "## Force Index 5 day SMA"
   ]
  },
  {
   "cell_type": "code",
   "execution_count": 140,
   "id": "2dfc98bb",
   "metadata": {},
   "outputs": [],
   "source": [
    "ticker_df['force_index_sma_5'] = ticker_df['force_index'].rolling(5).mean()"
   ]
  },
  {
   "cell_type": "markdown",
   "id": "b986b7fb",
   "metadata": {},
   "source": [
    "## Force Index 13 day SMA"
   ]
  },
  {
   "cell_type": "code",
   "execution_count": 141,
   "id": "062b4a8a",
   "metadata": {},
   "outputs": [],
   "source": [
    "ticker_df['force_index_sma_13'] = ticker_df['force_index'].rolling(13).mean()"
   ]
  },
  {
   "cell_type": "markdown",
   "id": "3c0b5207",
   "metadata": {},
   "source": [
    "## Closing Price Relative Change (Daily)"
   ]
  },
  {
   "cell_type": "code",
   "execution_count": 142,
   "id": "59c3f417",
   "metadata": {},
   "outputs": [],
   "source": [
    "ticker_df['price_rel_change'] = ticker_df['price_delta_daily'] / ticker_df['adjusted close']"
   ]
  },
  {
   "cell_type": "markdown",
   "id": "a75dbe88",
   "metadata": {},
   "source": [
    "## Volume Relative Change (Daily)"
   ]
  },
  {
   "cell_type": "code",
   "execution_count": 143,
   "id": "5aee3c5d",
   "metadata": {},
   "outputs": [],
   "source": [
    "ticker_df['vol_rel_change'] = ticker_df['volume'].diff() / ticker_df['volume']"
   ]
  },
  {
   "cell_type": "markdown",
   "id": "b591067c",
   "metadata": {},
   "source": [
    "## Negative Volume Index"
   ]
  },
  {
   "cell_type": "code",
   "execution_count": 145,
   "id": "a52a2f2e",
   "metadata": {},
   "outputs": [],
   "source": [
    "nvi_rate = ticker_df[ticker_df['vol_rel_change'] < 0]['vol_rel_change'].abs() * ticker_df['price_rel_change']"
   ]
  },
  {
   "cell_type": "code",
   "execution_count": 150,
   "id": "f637773c",
   "metadata": {},
   "outputs": [
    {
     "data": {
      "text/plain": [
       "inf"
      ]
     },
     "execution_count": 150,
     "metadata": {},
     "output_type": "execute_result"
    }
   ],
   "source": [
    "nvi_rate.fillna(0).max()"
   ]
  },
  {
   "cell_type": "markdown",
   "id": "f8230511",
   "metadata": {},
   "source": [
    "## Relative Strength Index (RSI) (Not finished)\n",
    "\n",
    "$$RSI=100 - \\frac{100}{1 + RS}$$"
   ]
  },
  {
   "cell_type": "code",
   "execution_count": 14,
   "id": "8eae186e",
   "metadata": {},
   "outputs": [],
   "source": [
    "# Averaging Window for RSI     \n",
    "n_rsi = 14\n",
    "\n",
    "# Separate up and down days\n",
    "up_df, down_df = ticker_df[['price_delta_daily']].copy(), ticker_df[['price_delta_daily']].copy()\n",
    "\n",
    "up_df.loc[(up_df['price_delta_daily'] < 0), 'price_delta_daily'] = 0\n"
   ]
  },
  {
   "cell_type": "code",
   "execution_count": 95,
   "id": "38585c8f",
   "metadata": {},
   "outputs": [
    {
     "data": {
      "text/html": [
       "<div>\n",
       "<style scoped>\n",
       "    .dataframe tbody tr th:only-of-type {\n",
       "        vertical-align: middle;\n",
       "    }\n",
       "\n",
       "    .dataframe tbody tr th {\n",
       "        vertical-align: top;\n",
       "    }\n",
       "\n",
       "    .dataframe thead th {\n",
       "        text-align: right;\n",
       "    }\n",
       "</style>\n",
       "<table border=\"1\" class=\"dataframe\">\n",
       "  <thead>\n",
       "    <tr style=\"text-align: right;\">\n",
       "      <th></th>\n",
       "      <th>timestamp</th>\n",
       "      <th>open</th>\n",
       "      <th>high</th>\n",
       "      <th>low</th>\n",
       "      <th>close</th>\n",
       "      <th>adjusted close</th>\n",
       "      <th>volume</th>\n",
       "      <th>price_delta_daily</th>\n",
       "      <th>price_delta_monthly</th>\n",
       "      <th>buy_signal_daily</th>\n",
       "      <th>buy_signal_monthly</th>\n",
       "      <th>mean_20</th>\n",
       "      <th>stdev_20</th>\n",
       "      <th>upper_bollinger</th>\n",
       "      <th>lower_bollinger</th>\n",
       "      <th>force_index</th>\n",
       "      <th>force_index_sma_5</th>\n",
       "      <th>force_index_sma_13</th>\n",
       "      <th>price_rel_change</th>\n",
       "      <th>volume_rel_change</th>\n",
       "    </tr>\n",
       "  </thead>\n",
       "  <tbody>\n",
       "    <tr>\n",
       "      <th>0</th>\n",
       "      <td>2008-01-29</td>\n",
       "      <td>9.50</td>\n",
       "      <td>9.990</td>\n",
       "      <td>8.5700</td>\n",
       "      <td>8.7500</td>\n",
       "      <td>1.711889</td>\n",
       "      <td>1489000</td>\n",
       "      <td>NaN</td>\n",
       "      <td>NaN</td>\n",
       "      <td>-1.0</td>\n",
       "      <td>NaN</td>\n",
       "      <td>NaN</td>\n",
       "      <td>NaN</td>\n",
       "      <td>NaN</td>\n",
       "      <td>NaN</td>\n",
       "      <td>NaN</td>\n",
       "      <td>NaN</td>\n",
       "      <td>NaN</td>\n",
       "      <td>NaN</td>\n",
       "      <td>NaN</td>\n",
       "    </tr>\n",
       "    <tr>\n",
       "      <th>1</th>\n",
       "      <td>2008-01-30</td>\n",
       "      <td>8.75</td>\n",
       "      <td>9.150</td>\n",
       "      <td>8.3000</td>\n",
       "      <td>8.5000</td>\n",
       "      <td>1.662978</td>\n",
       "      <td>219000</td>\n",
       "      <td>-0.048911</td>\n",
       "      <td>NaN</td>\n",
       "      <td>1.0</td>\n",
       "      <td>NaN</td>\n",
       "      <td>NaN</td>\n",
       "      <td>NaN</td>\n",
       "      <td>NaN</td>\n",
       "      <td>NaN</td>\n",
       "      <td>-10711.535327</td>\n",
       "      <td>NaN</td>\n",
       "      <td>NaN</td>\n",
       "      <td>-0.029412</td>\n",
       "      <td>-5.799087</td>\n",
       "    </tr>\n",
       "    <tr>\n",
       "      <th>2</th>\n",
       "      <td>2008-01-31</td>\n",
       "      <td>8.49</td>\n",
       "      <td>10.300</td>\n",
       "      <td>8.4900</td>\n",
       "      <td>9.5500</td>\n",
       "      <td>1.868405</td>\n",
       "      <td>182300</td>\n",
       "      <td>0.205427</td>\n",
       "      <td>NaN</td>\n",
       "      <td>-1.0</td>\n",
       "      <td>NaN</td>\n",
       "      <td>NaN</td>\n",
       "      <td>NaN</td>\n",
       "      <td>NaN</td>\n",
       "      <td>NaN</td>\n",
       "      <td>37449.288302</td>\n",
       "      <td>NaN</td>\n",
       "      <td>NaN</td>\n",
       "      <td>0.109948</td>\n",
       "      <td>-0.201317</td>\n",
       "    </tr>\n",
       "    <tr>\n",
       "      <th>3</th>\n",
       "      <td>2008-02-01</td>\n",
       "      <td>9.93</td>\n",
       "      <td>9.940</td>\n",
       "      <td>9.5000</td>\n",
       "      <td>9.5100</td>\n",
       "      <td>1.860579</td>\n",
       "      <td>28200</td>\n",
       "      <td>-0.007826</td>\n",
       "      <td>NaN</td>\n",
       "      <td>-1.0</td>\n",
       "      <td>NaN</td>\n",
       "      <td>NaN</td>\n",
       "      <td>NaN</td>\n",
       "      <td>NaN</td>\n",
       "      <td>NaN</td>\n",
       "      <td>-220.686974</td>\n",
       "      <td>NaN</td>\n",
       "      <td>NaN</td>\n",
       "      <td>-0.004206</td>\n",
       "      <td>-5.464539</td>\n",
       "    </tr>\n",
       "    <tr>\n",
       "      <th>4</th>\n",
       "      <td>2008-02-04</td>\n",
       "      <td>9.50</td>\n",
       "      <td>9.712</td>\n",
       "      <td>9.5000</td>\n",
       "      <td>9.5000</td>\n",
       "      <td>1.858623</td>\n",
       "      <td>8300</td>\n",
       "      <td>-0.001956</td>\n",
       "      <td>NaN</td>\n",
       "      <td>-1.0</td>\n",
       "      <td>NaN</td>\n",
       "      <td>NaN</td>\n",
       "      <td>NaN</td>\n",
       "      <td>NaN</td>\n",
       "      <td>NaN</td>\n",
       "      <td>-16.238492</td>\n",
       "      <td>NaN</td>\n",
       "      <td>NaN</td>\n",
       "      <td>-0.001053</td>\n",
       "      <td>-2.397590</td>\n",
       "    </tr>\n",
       "    <tr>\n",
       "      <th>...</th>\n",
       "      <td>...</td>\n",
       "      <td>...</td>\n",
       "      <td>...</td>\n",
       "      <td>...</td>\n",
       "      <td>...</td>\n",
       "      <td>...</td>\n",
       "      <td>...</td>\n",
       "      <td>...</td>\n",
       "      <td>...</td>\n",
       "      <td>...</td>\n",
       "      <td>...</td>\n",
       "      <td>...</td>\n",
       "      <td>...</td>\n",
       "      <td>...</td>\n",
       "      <td>...</td>\n",
       "      <td>...</td>\n",
       "      <td>...</td>\n",
       "      <td>...</td>\n",
       "      <td>...</td>\n",
       "      <td>...</td>\n",
       "    </tr>\n",
       "    <tr>\n",
       "      <th>3782</th>\n",
       "      <td>2023-02-10</td>\n",
       "      <td>1.70</td>\n",
       "      <td>1.800</td>\n",
       "      <td>1.6501</td>\n",
       "      <td>1.7400</td>\n",
       "      <td>1.740000</td>\n",
       "      <td>11384</td>\n",
       "      <td>0.035000</td>\n",
       "      <td>0.4331</td>\n",
       "      <td>1.0</td>\n",
       "      <td>1.0</td>\n",
       "      <td>1.489485</td>\n",
       "      <td>0.117821</td>\n",
       "      <td>1.725126</td>\n",
       "      <td>1.253844</td>\n",
       "      <td>398.440000</td>\n",
       "      <td>261.8404</td>\n",
       "      <td>140.967092</td>\n",
       "      <td>0.020115</td>\n",
       "      <td>-0.294624</td>\n",
       "    </tr>\n",
       "    <tr>\n",
       "      <th>3783</th>\n",
       "      <td>2023-02-13</td>\n",
       "      <td>1.79</td>\n",
       "      <td>1.820</td>\n",
       "      <td>1.7482</td>\n",
       "      <td>1.7700</td>\n",
       "      <td>1.770000</td>\n",
       "      <td>12984</td>\n",
       "      <td>0.030000</td>\n",
       "      <td>0.4200</td>\n",
       "      <td>1.0</td>\n",
       "      <td>1.0</td>\n",
       "      <td>1.509485</td>\n",
       "      <td>0.129811</td>\n",
       "      <td>1.769106</td>\n",
       "      <td>1.249864</td>\n",
       "      <td>389.520000</td>\n",
       "      <td>-110.0756</td>\n",
       "      <td>171.036769</td>\n",
       "      <td>0.016949</td>\n",
       "      <td>0.123229</td>\n",
       "    </tr>\n",
       "    <tr>\n",
       "      <th>3784</th>\n",
       "      <td>2023-02-14</td>\n",
       "      <td>1.85</td>\n",
       "      <td>1.850</td>\n",
       "      <td>1.7700</td>\n",
       "      <td>1.7805</td>\n",
       "      <td>1.780500</td>\n",
       "      <td>8289</td>\n",
       "      <td>0.010500</td>\n",
       "      <td>0.5072</td>\n",
       "      <td>1.0</td>\n",
       "      <td>1.0</td>\n",
       "      <td>1.529510</td>\n",
       "      <td>0.139327</td>\n",
       "      <td>1.808164</td>\n",
       "      <td>1.250856</td>\n",
       "      <td>87.034500</td>\n",
       "      <td>406.2869</td>\n",
       "      <td>132.741746</td>\n",
       "      <td>0.005897</td>\n",
       "      <td>-0.566413</td>\n",
       "    </tr>\n",
       "    <tr>\n",
       "      <th>3785</th>\n",
       "      <td>2023-02-15</td>\n",
       "      <td>1.79</td>\n",
       "      <td>1.860</td>\n",
       "      <td>1.7900</td>\n",
       "      <td>1.8500</td>\n",
       "      <td>1.850000</td>\n",
       "      <td>10826</td>\n",
       "      <td>0.069500</td>\n",
       "      <td>0.5900</td>\n",
       "      <td>1.0</td>\n",
       "      <td>1.0</td>\n",
       "      <td>1.550510</td>\n",
       "      <td>0.154378</td>\n",
       "      <td>1.859266</td>\n",
       "      <td>1.241754</td>\n",
       "      <td>752.407000</td>\n",
       "      <td>487.5983</td>\n",
       "      <td>218.309592</td>\n",
       "      <td>0.037568</td>\n",
       "      <td>0.234343</td>\n",
       "    </tr>\n",
       "    <tr>\n",
       "      <th>3786</th>\n",
       "      <td>2023-02-16</td>\n",
       "      <td>1.85</td>\n",
       "      <td>2.040</td>\n",
       "      <td>1.8500</td>\n",
       "      <td>1.9995</td>\n",
       "      <td>1.999500</td>\n",
       "      <td>87209</td>\n",
       "      <td>0.149500</td>\n",
       "      <td>0.7295</td>\n",
       "      <td>NaN</td>\n",
       "      <td>NaN</td>\n",
       "      <td>1.582985</td>\n",
       "      <td>0.176682</td>\n",
       "      <td>1.936349</td>\n",
       "      <td>1.229621</td>\n",
       "      <td>13037.745500</td>\n",
       "      <td>2933.0294</td>\n",
       "      <td>1204.710246</td>\n",
       "      <td>0.074769</td>\n",
       "      <td>0.875861</td>\n",
       "    </tr>\n",
       "  </tbody>\n",
       "</table>\n",
       "<p>3787 rows × 20 columns</p>\n",
       "</div>"
      ],
      "text/plain": [
       "      timestamp  open    high     low   close  adjusted close   volume  \\\n",
       "0    2008-01-29  9.50   9.990  8.5700  8.7500        1.711889  1489000   \n",
       "1    2008-01-30  8.75   9.150  8.3000  8.5000        1.662978   219000   \n",
       "2    2008-01-31  8.49  10.300  8.4900  9.5500        1.868405   182300   \n",
       "3    2008-02-01  9.93   9.940  9.5000  9.5100        1.860579    28200   \n",
       "4    2008-02-04  9.50   9.712  9.5000  9.5000        1.858623     8300   \n",
       "...         ...   ...     ...     ...     ...             ...      ...   \n",
       "3782 2023-02-10  1.70   1.800  1.6501  1.7400        1.740000    11384   \n",
       "3783 2023-02-13  1.79   1.820  1.7482  1.7700        1.770000    12984   \n",
       "3784 2023-02-14  1.85   1.850  1.7700  1.7805        1.780500     8289   \n",
       "3785 2023-02-15  1.79   1.860  1.7900  1.8500        1.850000    10826   \n",
       "3786 2023-02-16  1.85   2.040  1.8500  1.9995        1.999500    87209   \n",
       "\n",
       "      price_delta_daily  price_delta_monthly  buy_signal_daily  \\\n",
       "0                   NaN                  NaN              -1.0   \n",
       "1             -0.048911                  NaN               1.0   \n",
       "2              0.205427                  NaN              -1.0   \n",
       "3             -0.007826                  NaN              -1.0   \n",
       "4             -0.001956                  NaN              -1.0   \n",
       "...                 ...                  ...               ...   \n",
       "3782           0.035000               0.4331               1.0   \n",
       "3783           0.030000               0.4200               1.0   \n",
       "3784           0.010500               0.5072               1.0   \n",
       "3785           0.069500               0.5900               1.0   \n",
       "3786           0.149500               0.7295               NaN   \n",
       "\n",
       "      buy_signal_monthly   mean_20  stdev_20  upper_bollinger  \\\n",
       "0                    NaN       NaN       NaN              NaN   \n",
       "1                    NaN       NaN       NaN              NaN   \n",
       "2                    NaN       NaN       NaN              NaN   \n",
       "3                    NaN       NaN       NaN              NaN   \n",
       "4                    NaN       NaN       NaN              NaN   \n",
       "...                  ...       ...       ...              ...   \n",
       "3782                 1.0  1.489485  0.117821         1.725126   \n",
       "3783                 1.0  1.509485  0.129811         1.769106   \n",
       "3784                 1.0  1.529510  0.139327         1.808164   \n",
       "3785                 1.0  1.550510  0.154378         1.859266   \n",
       "3786                 NaN  1.582985  0.176682         1.936349   \n",
       "\n",
       "      lower_bollinger   force_index  force_index_sma_5  force_index_sma_13  \\\n",
       "0                 NaN           NaN                NaN                 NaN   \n",
       "1                 NaN -10711.535327                NaN                 NaN   \n",
       "2                 NaN  37449.288302                NaN                 NaN   \n",
       "3                 NaN   -220.686974                NaN                 NaN   \n",
       "4                 NaN    -16.238492                NaN                 NaN   \n",
       "...               ...           ...                ...                 ...   \n",
       "3782         1.253844    398.440000           261.8404          140.967092   \n",
       "3783         1.249864    389.520000          -110.0756          171.036769   \n",
       "3784         1.250856     87.034500           406.2869          132.741746   \n",
       "3785         1.241754    752.407000           487.5983          218.309592   \n",
       "3786         1.229621  13037.745500          2933.0294         1204.710246   \n",
       "\n",
       "      price_rel_change  volume_rel_change  \n",
       "0                  NaN                NaN  \n",
       "1            -0.029412          -5.799087  \n",
       "2             0.109948          -0.201317  \n",
       "3            -0.004206          -5.464539  \n",
       "4            -0.001053          -2.397590  \n",
       "...                ...                ...  \n",
       "3782          0.020115          -0.294624  \n",
       "3783          0.016949           0.123229  \n",
       "3784          0.005897          -0.566413  \n",
       "3785          0.037568           0.234343  \n",
       "3786          0.074769           0.875861  \n",
       "\n",
       "[3787 rows x 20 columns]"
      ]
     },
     "execution_count": 95,
     "metadata": {},
     "output_type": "execute_result"
    }
   ],
   "source": [
    "ticker_df"
   ]
  },
  {
   "cell_type": "code",
   "execution_count": null,
   "id": "a3371dee",
   "metadata": {},
   "outputs": [],
   "source": []
  }
 ],
 "metadata": {
  "kernelspec": {
   "display_name": "Python 3 (ipykernel)",
   "language": "python",
   "name": "python3"
  },
  "language_info": {
   "codemirror_mode": {
    "name": "ipython",
    "version": 3
   },
   "file_extension": ".py",
   "mimetype": "text/x-python",
   "name": "python",
   "nbconvert_exporter": "python",
   "pygments_lexer": "ipython3",
   "version": "3.9.12"
  },
  "toc": {
   "base_numbering": 1,
   "nav_menu": {},
   "number_sections": true,
   "sideBar": true,
   "skip_h1_title": false,
   "title_cell": "Table of Contents",
   "title_sidebar": "Contents",
   "toc_cell": false,
   "toc_position": {},
   "toc_section_display": true,
   "toc_window_display": false
  },
  "varInspector": {
   "cols": {
    "lenName": 16,
    "lenType": 16,
    "lenVar": 40
   },
   "kernels_config": {
    "python": {
     "delete_cmd_postfix": "",
     "delete_cmd_prefix": "del ",
     "library": "var_list.py",
     "varRefreshCmd": "print(var_dic_list())"
    },
    "r": {
     "delete_cmd_postfix": ") ",
     "delete_cmd_prefix": "rm(",
     "library": "var_list.r",
     "varRefreshCmd": "cat(var_dic_list()) "
    }
   },
   "types_to_exclude": [
    "module",
    "function",
    "builtin_function_or_method",
    "instance",
    "_Feature"
   ],
   "window_display": false
  }
 },
 "nbformat": 4,
 "nbformat_minor": 5
}
