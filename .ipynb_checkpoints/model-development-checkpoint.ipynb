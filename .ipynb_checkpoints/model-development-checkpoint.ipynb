{
 "cells": [
  {
   "cell_type": "code",
   "execution_count": 3,
   "id": "d1102fcc",
   "metadata": {},
   "outputs": [],
   "source": [
    "import os\n",
    "import numpy as np\n",
    "import tensorflow as tf\n",
    "import pandas as pd\n",
    "import random, sys, pickle\n",
    "from keras.models import Sequential, Model\n",
    "from keras import optimizers\n",
    "from keras.layers import Input, LSTM, Dense, Dropout\n",
    "from keras.regularizers import l2, l1\n",
    "from keras.layers import Reshape, Activation, Conv2D, MaxPooling2D, BatchNormalization, Flatten, Lambda\n",
    "from keras.layers import LeakyReLU\n",
    "from keras.callbacks import EarlyStopping, ModelCheckpoint,LearningRateScheduler, TensorBoard\n",
    "from keras.optimizers import SGD, Adam, RMSprop\n",
    "from keras.layers import concatenate\n",
    "import keras.backend as K\n",
    "from tensorflow.python.client import device_lib"
   ]
  },
  {
   "cell_type": "code",
   "execution_count": 5,
   "id": "f5fdb841",
   "metadata": {},
   "outputs": [],
   "source": [
    "get_ipython().run_line_magic('matplotlib', 'inline')"
   ]
  },
  {
   "cell_type": "markdown",
   "id": "3cc7cac3",
   "metadata": {},
   "source": [
    "## Helper functions"
   ]
  },
  {
   "cell_type": "code",
   "execution_count": 8,
   "id": "363ea497",
   "metadata": {},
   "outputs": [],
   "source": [
    "def create_timestep(dataset, n):\n",
    "    dataX = []\n",
    "    for i in range(len(dataset)-n+1):\n",
    "        a = dataset[i:(i+n)]\n",
    "        dataX.append(a)\n",
    "    return np.array(dataX)"
   ]
  },
  {
   "cell_type": "code",
   "execution_count": 10,
   "id": "4c9ca9b2",
   "metadata": {},
   "outputs": [],
   "source": [
    "def count(data):  \n",
    "    c0=0\n",
    "    c1=0\n",
    "    for i in range(len(data)):\n",
    "        if np.argmax(data[i])==0:\n",
    "            c0=c0+1\n",
    "        elif np.argmax(data[i])==1:\n",
    "            c1=c1+1\n",
    "    return c0,c1"
   ]
  },
  {
   "cell_type": "code",
   "execution_count": 11,
   "id": "02a8b1c6",
   "metadata": {},
   "outputs": [],
   "source": [
    "def label(data):\n",
    "    k=[]\n",
    "    for i in range(len(data)):\n",
    "        if np.argmax(data[i])==0:\n",
    "            k.append(0)\n",
    "        elif np.argmax(data[i])==1:\n",
    "            k.append(1)\n",
    "    return np.array(k)"
   ]
  },
  {
   "cell_type": "code",
   "execution_count": null,
   "id": "2e39d5bf",
   "metadata": {},
   "outputs": [],
   "source": []
  }
 ],
 "metadata": {
  "kernelspec": {
   "display_name": "Python 3 (ipykernel)",
   "language": "python",
   "name": "python3"
  },
  "language_info": {
   "codemirror_mode": {
    "name": "ipython",
    "version": 3
   },
   "file_extension": ".py",
   "mimetype": "text/x-python",
   "name": "python",
   "nbconvert_exporter": "python",
   "pygments_lexer": "ipython3",
   "version": "3.9.12"
  },
  "toc": {
   "base_numbering": 1,
   "nav_menu": {},
   "number_sections": true,
   "sideBar": true,
   "skip_h1_title": false,
   "title_cell": "Table of Contents",
   "title_sidebar": "Contents",
   "toc_cell": false,
   "toc_position": {},
   "toc_section_display": true,
   "toc_window_display": false
  },
  "varInspector": {
   "cols": {
    "lenName": 16,
    "lenType": 16,
    "lenVar": 40
   },
   "kernels_config": {
    "python": {
     "delete_cmd_postfix": "",
     "delete_cmd_prefix": "del ",
     "library": "var_list.py",
     "varRefreshCmd": "print(var_dic_list())"
    },
    "r": {
     "delete_cmd_postfix": ") ",
     "delete_cmd_prefix": "rm(",
     "library": "var_list.r",
     "varRefreshCmd": "cat(var_dic_list()) "
    }
   },
   "types_to_exclude": [
    "module",
    "function",
    "builtin_function_or_method",
    "instance",
    "_Feature"
   ],
   "window_display": false
  }
 },
 "nbformat": 4,
 "nbformat_minor": 5
}
